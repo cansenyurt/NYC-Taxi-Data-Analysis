{
 "cells": [
  {
   "cell_type": "code",
   "execution_count": 3,
   "metadata": {},
   "outputs": [
    {
     "data": {
      "text/plain": [
       "('../data/raw/YellowTaxi/yellow_tripdata_2024-05.parquet',\n",
       " <http.client.HTTPMessage at 0x7f07b25f1f30>)"
      ]
     },
     "execution_count": 3,
     "metadata": {},
     "output_type": "execute_result"
    }
   ],
   "source": [
    "from urllib.request import urlretrieve\n",
    "\n",
    "url = 'https://d37ci6vzurychx.cloudfront.net/trip-data/yellow_tripdata_2023-12.parquet'\n",
    "filename = '../data/raw/YellowTaxi/yellow_tripdata_2023-12.parquet'\n",
    "urlretrieve(url, filename)\n",
    "\n",
    "url = 'https://d37ci6vzurychx.cloudfront.net/trip-data/yellow_tripdata_2024-01.parquet'\n",
    "filename = '../data/raw/YellowTaxi/yellow_tripdata_2024-01.parquet'\n",
    "urlretrieve(url, filename)\n",
    "\n",
    "url = 'https://d37ci6vzurychx.cloudfront.net/trip-data/yellow_tripdata_2024-02.parquet'\n",
    "filename = '../data/raw/YellowTaxi/yellow_tripdata_2024-02.parquet'\n",
    "urlretrieve(url, filename)\n",
    "\n",
    "url = 'https://d37ci6vzurychx.cloudfront.net/trip-data/yellow_tripdata_2024-03.parquet'\n",
    "filename = '../data/raw/YellowTaxi/yellow_tripdata_2024-03.parquet'\n",
    "urlretrieve(url, filename)\n",
    "\n",
    "url = 'https://d37ci6vzurychx.cloudfront.net/trip-data/yellow_tripdata_2024-04.parquet'\n",
    "filename = '../data/raw/YellowTaxi/yellow_tripdata_2024-04.parquet'\n",
    "urlretrieve(url, filename)\n",
    "\n",
    "url = 'https://d37ci6vzurychx.cloudfront.net/trip-data/yellow_tripdata_2024-05.parquet'\n",
    "filename = '../data/raw/YellowTaxi/yellow_tripdata_2024-05.parquet'\n",
    "urlretrieve(url, filename)\n",
    "\n",
    "\n"
   ]
  }
 ],
 "metadata": {
  "kernelspec": {
   "display_name": "Python 3",
   "language": "python",
   "name": "python3"
  },
  "language_info": {
   "codemirror_mode": {
    "name": "ipython",
    "version": 3
   },
   "file_extension": ".py",
   "mimetype": "text/x-python",
   "name": "python",
   "nbconvert_exporter": "python",
   "pygments_lexer": "ipython3",
   "version": "3.10.12"
  }
 },
 "nbformat": 4,
 "nbformat_minor": 2
}
