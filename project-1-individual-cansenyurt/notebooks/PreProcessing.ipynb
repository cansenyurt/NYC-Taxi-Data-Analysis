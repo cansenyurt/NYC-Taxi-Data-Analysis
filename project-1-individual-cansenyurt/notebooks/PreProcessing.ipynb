{
 "cells": [
  {
   "cell_type": "code",
   "execution_count": 1,
   "metadata": {},
   "outputs": [
    {
     "name": "stderr",
     "output_type": "stream",
     "text": [
      "your 131072x1 screen size is bogus. expect trouble\n",
      "24/08/07 10:53:04 WARN Utils: Your hostname, Bobert resolves to a loopback address: 127.0.1.1; using 10.255.255.254 instead (on interface lo)\n",
      "24/08/07 10:53:04 WARN Utils: Set SPARK_LOCAL_IP if you need to bind to another address\n",
      "Setting default log level to \"WARN\".\n",
      "To adjust logging level use sc.setLogLevel(newLevel). For SparkR, use setLogLevel(newLevel).\n",
      "24/08/07 10:53:05 WARN NativeCodeLoader: Unable to load native-hadoop library for your platform... using builtin-java classes where applicable\n"
     ]
    }
   ],
   "source": [
    "from pyspark.sql import SparkSession\n",
    "\n",
    "# Create a spark session (which will run spark jobs)\n",
    "spark = (\n",
    "    SparkSession.builder.appName(\"PreProcessing\")\n",
    "    .config(\"spark.sql.repl.eagerEval.enabled\", True) \n",
    "    .config(\"spark.sql.parquet.cacheMetadata\", \"true\")\n",
    "    .config(\"spark.sql.session.timeZone\", \"Etc/UTC\")\n",
    "    .config('spark.driver.memory', '4g')\n",
    "    .config('spark.executor.memory', '2g')\n",
    "    .getOrCreate()\n",
    ")"
   ]
  },
  {
   "cell_type": "code",
   "execution_count": 3,
   "metadata": {},
   "outputs": [],
   "source": [
    "# initializing data\n",
    "ytaxi = spark.read.parquet('../data/raw/YellowTaxi/yellow_tripdata_2023-12.parquet','../data/raw/YellowTaxi/yellow_tripdata_2024-01.parquet',\n",
    "                           '../data/raw/YellowTaxi/yellow_tripdata_2024-02.parquet','../data/raw/YellowTaxi/yellow_tripdata_2024-03.parquet',\n",
    "                           '../data/raw/YellowTaxi/yellow_tripdata_2024-04.parquet','../data/raw/YellowTaxi/yellow_tripdata_2024-05.parquet')"
   ]
  },
  {
   "cell_type": "code",
   "execution_count": 5,
   "metadata": {},
   "outputs": [
    {
     "name": "stdout",
     "output_type": "stream",
     "text": [
      "root\n",
      " |-- VendorID: integer (nullable = true)\n",
      " |-- tpep_pickup_datetime: timestamp_ntz (nullable = true)\n",
      " |-- tpep_dropoff_datetime: timestamp_ntz (nullable = true)\n",
      " |-- passenger_count: long (nullable = true)\n",
      " |-- trip_distance: double (nullable = true)\n",
      " |-- RatecodeID: long (nullable = true)\n",
      " |-- store_and_fwd_flag: string (nullable = true)\n",
      " |-- PULocationID: integer (nullable = true)\n",
      " |-- DOLocationID: integer (nullable = true)\n",
      " |-- payment_type: long (nullable = true)\n",
      " |-- fare_amount: double (nullable = true)\n",
      " |-- extra: double (nullable = true)\n",
      " |-- mta_tax: double (nullable = true)\n",
      " |-- tip_amount: double (nullable = true)\n",
      " |-- tolls_amount: double (nullable = true)\n",
      " |-- improvement_surcharge: double (nullable = true)\n",
      " |-- total_amount: double (nullable = true)\n",
      " |-- congestion_surcharge: double (nullable = true)\n",
      " |-- Airport_fee: double (nullable = true)\n",
      "\n"
     ]
    },
    {
     "name": "stderr",
     "output_type": "stream",
     "text": [
      "                                                                                \r"
     ]
    },
    {
     "name": "stdout",
     "output_type": "stream",
     "text": [
      "{1, 2, 6}\n"
     ]
    },
    {
     "name": "stderr",
     "output_type": "stream",
     "text": [
      "                                                                                \r"
     ]
    },
    {
     "name": "stdout",
     "output_type": "stream",
     "text": [
      "{0, 1, 2, 3, 4, 5, 6, 7, 8, 9, None}\n"
     ]
    },
    {
     "name": "stderr",
     "output_type": "stream",
     "text": [
      "                                                                                \r"
     ]
    },
    {
     "name": "stdout",
     "output_type": "stream",
     "text": [
      "{0, 1, 2, 3, 4, 5}\n"
     ]
    }
   ],
   "source": [
    "# Converting Data Types\n",
    "ytaxi.printSchema()\n",
    "\n",
    "ytaxi.groupBy('passenger_count').mean('tip_amount')\n",
    "\n",
    "columns_to_check=['VendorID', 'passenger_count','payment_type']\n",
    "for column in columns_to_check:\n",
    "    print(set(ytaxi.select(column).rdd.flatMap(lambda x: x).collect()))"
   ]
  },
  {
   "cell_type": "code",
   "execution_count": 5,
   "metadata": {},
   "outputs": [
    {
     "name": "stdout",
     "output_type": "stream",
     "text": [
      "root\n",
      " |-- VendorID: integer (nullable = true)\n",
      " |-- tpep_pickup_datetime: timestamp_ntz (nullable = true)\n",
      " |-- tpep_dropoff_datetime: timestamp_ntz (nullable = true)\n",
      " |-- passenger_count: integer (nullable = true)\n",
      " |-- trip_distance: double (nullable = true)\n",
      " |-- RatecodeID: long (nullable = true)\n",
      " |-- store_and_fwd_flag: boolean (nullable = true)\n",
      " |-- PULocationID: integer (nullable = true)\n",
      " |-- DOLocationID: integer (nullable = true)\n",
      " |-- payment_type: integer (nullable = true)\n",
      " |-- fare_amount: double (nullable = true)\n",
      " |-- extra: double (nullable = true)\n",
      " |-- mta_tax: double (nullable = true)\n",
      " |-- tip_amount: double (nullable = true)\n",
      " |-- tolls_amount: double (nullable = true)\n",
      " |-- improvement_surcharge: double (nullable = true)\n",
      " |-- total_amount: double (nullable = true)\n",
      " |-- congestion_surcharge: double (nullable = true)\n",
      " |-- airport_fee: boolean (nullable = true)\n",
      "\n"
     ]
    },
    {
     "data": {
      "text/html": [
       "<table border='1'>\n",
       "<tr><th>VendorID</th><th>tpep_pickup_datetime</th><th>tpep_dropoff_datetime</th><th>passenger_count</th><th>trip_distance</th><th>RatecodeID</th><th>store_and_fwd_flag</th><th>PULocationID</th><th>DOLocationID</th><th>payment_type</th><th>fare_amount</th><th>extra</th><th>mta_tax</th><th>tip_amount</th><th>tolls_amount</th><th>improvement_surcharge</th><th>total_amount</th><th>congestion_surcharge</th><th>airport_fee</th></tr>\n",
       "<tr><td>1</td><td>2023-12-01 00:06:06</td><td>2023-12-01 00:15:47</td><td>0</td><td>1.1</td><td>1</td><td>false</td><td>230</td><td>48</td><td>1</td><td>10.0</td><td>3.5</td><td>0.5</td><td>1.5</td><td>0.0</td><td>1.0</td><td>16.5</td><td>2.5</td><td>false</td></tr>\n",
       "<tr><td>1</td><td>2023-12-01 00:22:26</td><td>2023-12-01 00:28:53</td><td>0</td><td>1.5</td><td>1</td><td>false</td><td>142</td><td>238</td><td>1</td><td>9.3</td><td>3.5</td><td>0.5</td><td>2.85</td><td>0.0</td><td>1.0</td><td>17.15</td><td>2.5</td><td>false</td></tr>\n",
       "<tr><td>1</td><td>2023-12-01 00:59:44</td><td>2023-12-01 01:13:22</td><td>2</td><td>2.2</td><td>1</td><td>false</td><td>114</td><td>186</td><td>1</td><td>13.5</td><td>3.5</td><td>0.5</td><td>3.0</td><td>0.0</td><td>1.0</td><td>21.5</td><td>2.5</td><td>false</td></tr>\n",
       "<tr><td>2</td><td>2023-12-01 00:22:17</td><td>2023-12-01 00:30:59</td><td>1</td><td>0.66</td><td>1</td><td>false</td><td>79</td><td>79</td><td>2</td><td>7.2</td><td>1.0</td><td>0.5</td><td>0.0</td><td>0.0</td><td>1.0</td><td>12.2</td><td>2.5</td><td>false</td></tr>\n",
       "<tr><td>2</td><td>2023-12-01 00:18:16</td><td>2023-12-01 00:25:32</td><td>2</td><td>2.2</td><td>1</td><td>false</td><td>229</td><td>263</td><td>1</td><td>11.4</td><td>1.0</td><td>0.5</td><td>2.0</td><td>0.0</td><td>1.0</td><td>18.4</td><td>2.5</td><td>false</td></tr>\n",
       "<tr><td>1</td><td>2023-12-01 00:13:17</td><td>2023-12-01 00:23:53</td><td>0</td><td>5.7</td><td>1</td><td>false</td><td>88</td><td>141</td><td>1</td><td>23.3</td><td>3.5</td><td>0.5</td><td>0.0</td><td>0.0</td><td>1.0</td><td>28.3</td><td>2.5</td><td>false</td></tr>\n",
       "<tr><td>2</td><td>2023-12-01 00:17:09</td><td>2023-12-01 00:33:31</td><td>1</td><td>5.33</td><td>1</td><td>false</td><td>45</td><td>162</td><td>1</td><td>24.7</td><td>1.0</td><td>0.5</td><td>3.0</td><td>0.0</td><td>1.0</td><td>32.7</td><td>2.5</td><td>false</td></tr>\n",
       "<tr><td>2</td><td>2023-12-01 00:40:49</td><td>2023-12-01 00:44:10</td><td>1</td><td>0.76</td><td>1</td><td>false</td><td>170</td><td>107</td><td>1</td><td>5.8</td><td>1.0</td><td>0.5</td><td>1.0</td><td>0.0</td><td>1.0</td><td>11.8</td><td>2.5</td><td>false</td></tr>\n",
       "<tr><td>2</td><td>2023-12-01 00:19:04</td><td>2023-12-01 00:34:36</td><td>1</td><td>3.33</td><td>1</td><td>false</td><td>186</td><td>209</td><td>1</td><td>17.7</td><td>1.0</td><td>0.5</td><td>3.4</td><td>0.0</td><td>1.0</td><td>26.1</td><td>2.5</td><td>false</td></tr>\n",
       "<tr><td>1</td><td>2023-12-01 00:08:39</td><td>2023-12-01 00:16:18</td><td>1</td><td>2.1</td><td>1</td><td>false</td><td>163</td><td>262</td><td>1</td><td>12.1</td><td>3.5</td><td>0.5</td><td>3.42</td><td>0.0</td><td>1.0</td><td>20.52</td><td>2.5</td><td>false</td></tr>\n",
       "</table>\n"
      ],
      "text/plain": [
       "+--------+--------------------+---------------------+---------------+-------------+----------+------------------+------------+------------+------------+-----------+-----+-------+----------+------------+---------------------+------------+--------------------+-----------+\n",
       "|VendorID|tpep_pickup_datetime|tpep_dropoff_datetime|passenger_count|trip_distance|RatecodeID|store_and_fwd_flag|PULocationID|DOLocationID|payment_type|fare_amount|extra|mta_tax|tip_amount|tolls_amount|improvement_surcharge|total_amount|congestion_surcharge|airport_fee|\n",
       "+--------+--------------------+---------------------+---------------+-------------+----------+------------------+------------+------------+------------+-----------+-----+-------+----------+------------+---------------------+------------+--------------------+-----------+\n",
       "|       1| 2023-12-01 00:06:06|  2023-12-01 00:15:47|              0|          1.1|         1|             false|         230|          48|           1|       10.0|  3.5|    0.5|       1.5|         0.0|                  1.0|        16.5|                 2.5|      false|\n",
       "|       1| 2023-12-01 00:22:26|  2023-12-01 00:28:53|              0|          1.5|         1|             false|         142|         238|           1|        9.3|  3.5|    0.5|      2.85|         0.0|                  1.0|       17.15|                 2.5|      false|\n",
       "|       1| 2023-12-01 00:59:44|  2023-12-01 01:13:22|              2|          2.2|         1|             false|         114|         186|           1|       13.5|  3.5|    0.5|       3.0|         0.0|                  1.0|        21.5|                 2.5|      false|\n",
       "|       2| 2023-12-01 00:22:17|  2023-12-01 00:30:59|              1|         0.66|         1|             false|          79|          79|           2|        7.2|  1.0|    0.5|       0.0|         0.0|                  1.0|        12.2|                 2.5|      false|\n",
       "|       2| 2023-12-01 00:18:16|  2023-12-01 00:25:32|              2|          2.2|         1|             false|         229|         263|           1|       11.4|  1.0|    0.5|       2.0|         0.0|                  1.0|        18.4|                 2.5|      false|\n",
       "|       1| 2023-12-01 00:13:17|  2023-12-01 00:23:53|              0|          5.7|         1|             false|          88|         141|           1|       23.3|  3.5|    0.5|       0.0|         0.0|                  1.0|        28.3|                 2.5|      false|\n",
       "|       2| 2023-12-01 00:17:09|  2023-12-01 00:33:31|              1|         5.33|         1|             false|          45|         162|           1|       24.7|  1.0|    0.5|       3.0|         0.0|                  1.0|        32.7|                 2.5|      false|\n",
       "|       2| 2023-12-01 00:40:49|  2023-12-01 00:44:10|              1|         0.76|         1|             false|         170|         107|           1|        5.8|  1.0|    0.5|       1.0|         0.0|                  1.0|        11.8|                 2.5|      false|\n",
       "|       2| 2023-12-01 00:19:04|  2023-12-01 00:34:36|              1|         3.33|         1|             false|         186|         209|           1|       17.7|  1.0|    0.5|       3.4|         0.0|                  1.0|        26.1|                 2.5|      false|\n",
       "|       1| 2023-12-01 00:08:39|  2023-12-01 00:16:18|              1|          2.1|         1|             false|         163|         262|           1|       12.1|  3.5|    0.5|      3.42|         0.0|                  1.0|       20.52|                 2.5|      false|\n",
       "+--------+--------------------+---------------------+---------------+-------------+----------+------------------+------------+------------+------------+-----------+-----+-------+----------+------------+---------------------+------------+--------------------+-----------+"
      ]
     },
     "execution_count": 5,
     "metadata": {},
     "output_type": "execute_result"
    }
   ],
   "source": [
    "# changing data types to be slightly more efficient\n",
    "# passenger_count could be int, store_and_flag bool, payment type int, can turn airport fee into bool since it is\n",
    "# either 1.75 or 0\n",
    "from pyspark.sql import functions as F\n",
    "from pyspark.sql.types import IntegerType\n",
    "\n",
    "\n",
    "ytaxi2 = ytaxi\n",
    "\n",
    "ytaxi2 = ytaxi2.withColumn('passenger_count',col('passenger_count').cast(IntegerType()))\n",
    "ytaxi2 = ytaxi2.replace(['Y','N'],['True','False'],subset='store_and_fwd_flag')\n",
    "ytaxi2 = ytaxi2.withColumn('store_and_fwd_flag',col('store_and_fwd_flag').cast(BooleanType()))\n",
    "ytaxi2 = ytaxi2.withColumn('payment_type',col('payment_type').cast(IntegerType()))\n",
    "ytaxi2 = ytaxi2.withColumn('airport_fee',col('airport_fee').cast(BooleanType()))\n",
    "\n",
    "#airport_fee is changed to bool even though there were negative values, they are all -1.75 which I assumed to be 1.75"
   ]
  },
  {
   "cell_type": "code",
   "execution_count": 8,
   "metadata": {},
   "outputs": [
    {
     "name": "stderr",
     "output_type": "stream",
     "text": [
      "                                                                                \r"
     ]
    }
   ],
   "source": [
    "ytaxi2.write.parquet('../data/curated/YellowTaxi_Checkpt1')"
   ]
  }
 ],
 "metadata": {
  "kernelspec": {
   "display_name": "Python 3",
   "language": "python",
   "name": "python3"
  },
  "language_info": {
   "codemirror_mode": {
    "name": "ipython",
    "version": 3
   },
   "file_extension": ".py",
   "mimetype": "text/x-python",
   "name": "python",
   "nbconvert_exporter": "python",
   "pygments_lexer": "ipython3",
   "version": "3.10.12"
  }
 },
 "nbformat": 4,
 "nbformat_minor": 2
}
