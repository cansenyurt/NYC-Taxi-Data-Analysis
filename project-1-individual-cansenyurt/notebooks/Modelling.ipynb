{
 "cells": [
  {
   "cell_type": "code",
   "execution_count": 1,
   "metadata": {},
   "outputs": [
    {
     "name": "stderr",
     "output_type": "stream",
     "text": [
      "your 131072x1 screen size is bogus. expect trouble\n",
      "24/08/25 18:05:19 WARN Utils: Your hostname, Bobert resolves to a loopback address: 127.0.1.1; using 10.255.255.254 instead (on interface lo)\n",
      "24/08/25 18:05:19 WARN Utils: Set SPARK_LOCAL_IP if you need to bind to another address\n",
      "Setting default log level to \"WARN\".\n",
      "To adjust logging level use sc.setLogLevel(newLevel). For SparkR, use setLogLevel(newLevel).\n",
      "24/08/25 18:05:20 WARN NativeCodeLoader: Unable to load native-hadoop library for your platform... using builtin-java classes where applicable\n"
     ]
    }
   ],
   "source": [
    "from pyspark.sql import SparkSession\n",
    "\n",
    "# Create a spark session (which will run spark jobs)\n",
    "spark = (\n",
    "    SparkSession.builder.appName(\"Modelling\")\n",
    "    .config(\"spark.sql.repl.eagerEval.enabled\", True) \n",
    "    .config(\"spark.sql.parquet.cacheMetadata\", \"true\")\n",
    "    .config(\"spark.sql.session.timeZone\", \"Etc/UTC\")\n",
    "    .config('spark.driver.memory', '4g')\n",
    "    .config('spark.executor.memory', '2g')\n",
    "    .getOrCreate()\n",
    ")"
   ]
  },
  {
   "cell_type": "code",
   "execution_count": 2,
   "metadata": {},
   "outputs": [],
   "source": [
    "import numpy as np\n",
    "import pandas as pd\n",
    "import math\n",
    "import matplotlib.pyplot as plt\n",
    "from statsmodels.formula.api import ols, glm\n",
    "import sklearn\n",
    "from pyspark.ml.feature import VectorAssembler\n",
    "from pyspark.ml.regression import LinearRegression\n",
    "from pyspark.sql.functions import col, udf\n",
    "from pyspark.sql.types import DoubleType"
   ]
  },
  {
   "cell_type": "code",
   "execution_count": 3,
   "metadata": {},
   "outputs": [
    {
     "name": "stderr",
     "output_type": "stream",
     "text": [
      "                                                                                \r"
     ]
    }
   ],
   "source": [
    "taxi_weather = spark.read.parquet(\"../data/curated/YellowTaxi_Weather\")"
   ]
  },
  {
   "cell_type": "code",
   "execution_count": 4,
   "metadata": {},
   "outputs": [
    {
     "name": "stderr",
     "output_type": "stream",
     "text": [
      "24/08/25 18:06:34 WARN MemoryStore: Not enough space to cache rdd_49_16 in memory! (computed 3.5 MiB so far)\n",
      "24/08/25 18:06:34 WARN BlockManager: Persisting block rdd_49_16 to disk instead.\n",
      "24/08/25 18:06:43 WARN MemoryStore: Not enough space to cache rdd_49_8 in memory! (computed 166.9 MiB so far)\n",
      "24/08/25 18:06:43 WARN BlockManager: Persisting block rdd_49_8 to disk instead.\n",
      "24/08/25 18:06:43 WARN MemoryStore: Not enough space to cache rdd_49_6 in memory! (computed 166.9 MiB so far)\n",
      "24/08/25 18:06:43 WARN BlockManager: Persisting block rdd_49_6 to disk instead.\n",
      "24/08/25 18:06:43 WARN MemoryStore: Not enough space to cache rdd_49_9 in memory! (computed 250.9 MiB so far)\n",
      "24/08/25 18:06:43 WARN BlockManager: Persisting block rdd_49_9 to disk instead.\n",
      "24/08/25 18:06:43 WARN MemoryStore: Not enough space to cache rdd_49_11 in memory! (computed 250.9 MiB so far)\n",
      "24/08/25 18:06:43 WARN BlockManager: Persisting block rdd_49_11 to disk instead.\n",
      "24/08/25 18:06:46 WARN MemoryStore: Not enough space to cache rdd_49_10 in memory! (computed 600.3 MiB so far)\n",
      "24/08/25 18:06:46 WARN BlockManager: Persisting block rdd_49_10 to disk instead.\n",
      "24/08/25 18:06:48 WARN MemoryStore: Not enough space to cache rdd_49_1 in memory! (computed 13.8 MiB so far)\n",
      "24/08/25 18:06:48 WARN BlockManager: Persisting block rdd_49_1 to disk instead.\n",
      "24/08/25 18:06:48 WARN MemoryStore: Not enough space to cache rdd_49_0 in memory! (computed 31.3 MiB so far)\n",
      "24/08/25 18:06:48 WARN BlockManager: Persisting block rdd_49_0 to disk instead.\n",
      "24/08/25 18:06:51 WARN MemoryStore: Not enough space to cache rdd_49_11 in memory! (computed 13.8 MiB so far)\n",
      "24/08/25 18:06:51 WARN MemoryStore: Not enough space to cache rdd_49_2 in memory! (computed 166.9 MiB so far)\n",
      "24/08/25 18:06:51 WARN BlockManager: Persisting block rdd_49_2 to disk instead.\n",
      "24/08/25 18:06:51 WARN MemoryStore: Not enough space to cache rdd_49_5 in memory! (computed 250.9 MiB so far)\n",
      "24/08/25 18:06:51 WARN BlockManager: Persisting block rdd_49_5 to disk instead.\n",
      "24/08/25 18:06:51 WARN MemoryStore: Not enough space to cache rdd_49_10 in memory! (computed 48.6 MiB so far)\n",
      "24/08/25 18:06:51 WARN MemoryStore: Not enough space to cache rdd_49_9 in memory! (computed 6.0 MiB so far)\n",
      "24/08/25 18:06:51 WARN MemoryStore: Not enough space to cache rdd_49_3 in memory! (computed 250.9 MiB so far)\n",
      "24/08/25 18:06:51 WARN BlockManager: Persisting block rdd_49_3 to disk instead.\n",
      "24/08/25 18:06:51 WARN MemoryStore: Not enough space to cache rdd_49_8 in memory! (computed 48.6 MiB so far)\n",
      "24/08/25 18:06:53 WARN MemoryStore: Not enough space to cache rdd_49_6 in memory! (computed 389.1 MiB so far)\n",
      "24/08/25 18:06:54 WARN MemoryStore: Not enough space to cache rdd_49_4 in memory! (computed 600.3 MiB so far)\n",
      "24/08/25 18:06:54 WARN BlockManager: Persisting block rdd_49_4 to disk instead.\n",
      "24/08/25 18:07:03 WARN MemoryStore: Not enough space to cache rdd_49_1 in memory! (computed 600.3 MiB so far)\n",
      "24/08/25 18:07:03 WARN MemoryStore: Not enough space to cache rdd_49_0 in memory! (computed 600.3 MiB so far)\n",
      "24/08/25 18:07:03 WARN MemoryStore: Not enough space to cache rdd_49_5 in memory! (computed 111.3 MiB so far)\n",
      "24/08/25 18:07:04 WARN MemoryStore: Not enough space to cache rdd_49_3 in memory! (computed 111.3 MiB so far)\n",
      "24/08/25 18:07:04 WARN MemoryStore: Not enough space to cache rdd_49_4 in memory! (computed 48.6 MiB so far)\n",
      "24/08/25 18:07:04 WARN MemoryStore: Not enough space to cache rdd_49_2 in memory! (computed 111.3 MiB so far)\n",
      "24/08/25 18:07:16 WARN MemoryStore: Not enough space to cache rdd_49_3 in memory! (computed 111.3 MiB so far)\n",
      "24/08/25 18:07:16 WARN MemoryStore: Not enough space to cache rdd_49_10 in memory! (computed 111.3 MiB so far)\n",
      "24/08/25 18:07:16 WARN MemoryStore: Not enough space to cache rdd_49_0 in memory! (computed 111.3 MiB so far)\n",
      "24/08/25 18:07:16 WARN MemoryStore: Not enough space to cache rdd_49_5 in memory! (computed 111.3 MiB so far)\n",
      "24/08/25 18:07:16 WARN MemoryStore: Not enough space to cache rdd_49_9 in memory! (computed 111.3 MiB so far)\n",
      "24/08/25 18:07:16 WARN MemoryStore: Not enough space to cache rdd_49_8 in memory! (computed 111.3 MiB so far)\n",
      "24/08/25 18:07:16 WARN MemoryStore: Not enough space to cache rdd_49_11 in memory! (computed 111.3 MiB so far)\n",
      "24/08/25 18:07:16 WARN MemoryStore: Not enough space to cache rdd_49_6 in memory! (computed 111.3 MiB so far)\n",
      "24/08/25 18:07:16 WARN MemoryStore: Not enough space to cache rdd_49_2 in memory! (computed 111.3 MiB so far)\n",
      "24/08/25 18:07:16 WARN MemoryStore: Not enough space to cache rdd_49_16 in memory! (computed 111.3 MiB so far)\n",
      "24/08/25 18:07:17 WARN MemoryStore: Not enough space to cache rdd_49_4 in memory! (computed 166.9 MiB so far)\n",
      "24/08/25 18:07:17 WARN MemoryStore: Not enough space to cache rdd_49_1 in memory! (computed 166.9 MiB so far)\n",
      "24/08/25 18:07:32 WARN MemoryStore: Not enough space to cache rdd_49_0 in memory! (computed 111.3 MiB so far)\n",
      "24/08/25 18:07:32 WARN MemoryStore: Not enough space to cache rdd_49_1 in memory! (computed 111.3 MiB so far)\n",
      "24/08/25 18:07:32 WARN MemoryStore: Not enough space to cache rdd_49_3 in memory! (computed 111.3 MiB so far)\n",
      "24/08/25 18:07:32 WARN MemoryStore: Not enough space to cache rdd_49_4 in memory! (computed 111.3 MiB so far)\n",
      "24/08/25 18:07:32 WARN MemoryStore: Not enough space to cache rdd_49_6 in memory! (computed 111.3 MiB so far)\n",
      "24/08/25 18:07:32 WARN MemoryStore: Not enough space to cache rdd_49_5 in memory! (computed 111.3 MiB so far)\n",
      "24/08/25 18:07:32 WARN MemoryStore: Not enough space to cache rdd_49_9 in memory! (computed 111.3 MiB so far)\n",
      "24/08/25 18:07:32 WARN MemoryStore: Not enough space to cache rdd_49_11 in memory! (computed 111.3 MiB so far)\n",
      "24/08/25 18:07:32 WARN MemoryStore: Not enough space to cache rdd_49_8 in memory! (computed 111.3 MiB so far)\n",
      "24/08/25 18:07:32 WARN MemoryStore: Not enough space to cache rdd_49_16 in memory! (computed 111.3 MiB so far)\n",
      "24/08/25 18:07:32 WARN MemoryStore: Not enough space to cache rdd_49_10 in memory! (computed 166.9 MiB so far)\n",
      "24/08/25 18:07:32 WARN MemoryStore: Not enough space to cache rdd_49_2 in memory! (computed 166.9 MiB so far)\n",
      "24/08/25 18:07:49 WARN MemoryStore: Not enough space to cache rdd_49_2 in memory! (computed 111.3 MiB so far)\n",
      "24/08/25 18:07:49 WARN MemoryStore: Not enough space to cache rdd_49_3 in memory! (computed 111.3 MiB so far)\n",
      "24/08/25 18:07:49 WARN MemoryStore: Not enough space to cache rdd_49_9 in memory! (computed 111.3 MiB so far)\n",
      "24/08/25 18:07:49 WARN MemoryStore: Not enough space to cache rdd_49_0 in memory! (computed 111.3 MiB so far)\n",
      "24/08/25 18:07:49 WARN MemoryStore: Not enough space to cache rdd_49_11 in memory! (computed 111.3 MiB so far)\n",
      "24/08/25 18:07:49 WARN MemoryStore: Not enough space to cache rdd_49_10 in memory! (computed 111.3 MiB so far)\n",
      "24/08/25 18:07:49 WARN MemoryStore: Not enough space to cache rdd_49_1 in memory! (computed 111.3 MiB so far)\n",
      "24/08/25 18:07:49 WARN MemoryStore: Not enough space to cache rdd_49_5 in memory! (computed 111.3 MiB so far)\n",
      "24/08/25 18:07:49 WARN MemoryStore: Not enough space to cache rdd_49_16 in memory! (computed 111.3 MiB so far)\n",
      "24/08/25 18:07:49 WARN MemoryStore: Not enough space to cache rdd_49_6 in memory! (computed 111.3 MiB so far)\n",
      "24/08/25 18:07:49 WARN MemoryStore: Not enough space to cache rdd_49_4 in memory! (computed 166.9 MiB so far)\n",
      "24/08/25 18:07:49 WARN MemoryStore: Not enough space to cache rdd_49_8 in memory! (computed 166.9 MiB so far)\n",
      "24/08/25 18:08:08 WARN MemoryStore: Not enough space to cache rdd_49_3 in memory! (computed 111.3 MiB so far)\n",
      "24/08/25 18:08:08 WARN MemoryStore: Not enough space to cache rdd_49_6 in memory! (computed 111.3 MiB so far)\n",
      "24/08/25 18:08:08 WARN MemoryStore: Not enough space to cache rdd_49_0 in memory! (computed 111.3 MiB so far)\n",
      "24/08/25 18:08:08 WARN MemoryStore: Not enough space to cache rdd_49_2 in memory! (computed 111.3 MiB so far)\n",
      "24/08/25 18:08:08 WARN MemoryStore: Not enough space to cache rdd_49_1 in memory! (computed 111.3 MiB so far)\n",
      "24/08/25 18:08:08 WARN MemoryStore: Not enough space to cache rdd_49_11 in memory! (computed 111.3 MiB so far)\n",
      "24/08/25 18:08:08 WARN MemoryStore: Not enough space to cache rdd_49_9 in memory! (computed 111.3 MiB so far)\n",
      "24/08/25 18:08:08 WARN MemoryStore: Not enough space to cache rdd_49_8 in memory! (computed 111.3 MiB so far)\n",
      "24/08/25 18:08:08 WARN MemoryStore: Not enough space to cache rdd_49_5 in memory! (computed 111.3 MiB so far)\n",
      "24/08/25 18:08:08 WARN MemoryStore: Not enough space to cache rdd_49_16 in memory! (computed 111.3 MiB so far)\n",
      "24/08/25 18:08:08 WARN MemoryStore: Not enough space to cache rdd_49_10 in memory! (computed 166.9 MiB so far)\n",
      "24/08/25 18:08:08 WARN MemoryStore: Not enough space to cache rdd_49_4 in memory! (computed 166.9 MiB so far)\n",
      "WARNING: An illegal reflective access operation has occurred                    \n",
      "WARNING: Illegal reflective access by org.apache.spark.util.SizeEstimator$ (file:/home/cansenyurt/.local/lib/python3.10/site-packages/pyspark/jars/spark-core_2.12-3.5.1.jar) to field java.nio.charset.Charset.name\n",
      "WARNING: Please consider reporting this to the maintainers of org.apache.spark.util.SizeEstimator$\n",
      "WARNING: Use --illegal-access=warn to enable warnings of further illegal reflective access operations\n",
      "WARNING: All illegal access operations will be denied in a future release\n"
     ]
    }
   ],
   "source": [
    "# Following code is retrieved from https://towardsdatascience.com/how-to-implement-random-forest-regression-in-pyspark-9582f4964285\n",
    "# And modified by Can Senyurt\n",
    "\n",
    "features = 'features'\n",
    "numerical_cols = ['passenger_count', 'trip_distance', 'fare_amount', 'tolls_amount', 'congestion_surcharge','trip_duration', 'pickup_hour' ,'temp','snow' ,'precip','windspeed','sealevelpressure','cloudcover','visibility','uvindex']\n",
    "cat_cols = ['PULocationID', 'pickup_day', 'pickup_hour', 'icon']\n",
    "\n",
    "from pyspark.ml import Pipeline\n",
    "from pyspark.ml.feature import StringIndexer, OneHotEncoder\n",
    "\n",
    "stages = [] # Stages in Pipeline\n",
    "\n",
    "for c in cat_cols:\n",
    "    stringIndexer = StringIndexer(inputCol=c, outputCol=c + \"_index\")\n",
    "    encoder = OneHotEncoder(inputCols=[stringIndexer.getOutputCol()], \\\n",
    "            outputCols=[c + \"_vec\"])    \n",
    "    stages += [stringIndexer, encoder] # Stages will be run later on\n",
    "\n",
    "from pyspark.ml.feature import VectorAssembler\n",
    "\n",
    "# Transform all features into a vector\n",
    "assemblerInputs = [c + \"_vec\" for c in cat_cols] + numerical_cols\n",
    "assembler = VectorAssembler(inputCols=assemblerInputs, outputCol=\"features\")\n",
    "stages += [assembler]\n",
    "\n",
    "# Create pipeline and use on dataset\n",
    "combined = numerical_cols + cat_cols\n",
    "pipeline = Pipeline(stages=stages)\n",
    "df = taxi_weather.select(combined)\n",
    "df = df.dropna('any') # Justify, pyspark ml can't handle missing values\n",
    "df = pipeline.fit(taxi_weather).transform(taxi_weather)\n",
    "\n",
    "train, test = df.randomSplit([0.8, 0.2], seed=42)\n",
    "\n",
    "from pyspark.ml.regression import RandomForestRegressor\n",
    "\n",
    "rf = RandomForestRegressor(featuresCol='features', labelCol='tip_amount')\n",
    "rf_model = rf.fit(train)\n",
    "\n",
    "train_predictions = rf_model.transform(train)\n",
    "test_predictions = rf_model.transform(test)\n"
   ]
  },
  {
   "cell_type": "code",
   "execution_count": 5,
   "metadata": {},
   "outputs": [
    {
     "name": "stderr",
     "output_type": "stream",
     "text": [
      "                                                                                \r"
     ]
    },
    {
     "name": "stdout",
     "output_type": "stream",
     "text": [
      "Train R2: 2.4519288600867077\n"
     ]
    },
    {
     "name": "stderr",
     "output_type": "stream",
     "text": [
      "[Stage 29:==========================================>             (13 + 4) / 17]\r"
     ]
    },
    {
     "name": "stdout",
     "output_type": "stream",
     "text": [
      "Test R2: 2.452923943486923\n"
     ]
    },
    {
     "name": "stderr",
     "output_type": "stream",
     "text": [
      "                                                                                \r"
     ]
    }
   ],
   "source": [
    "from pyspark.ml.evaluation import RegressionEvaluator\n",
    "\n",
    "evaluator = RegressionEvaluator(predictionCol=\"prediction\", \\\n",
    "                 labelCol=\"tip_amount\", metricName=\"rmse\")\n",
    "\n",
    "print(\"Train RMSE:\", evaluator.evaluate(train_predictions))\n",
    "print(\"Test RMSE:\", evaluator.evaluate(test_predictions))"
   ]
  },
  {
   "cell_type": "code",
   "execution_count": 6,
   "metadata": {},
   "outputs": [
    {
     "name": "stderr",
     "output_type": "stream",
     "text": [
      "                                                                                \r"
     ]
    },
    {
     "name": "stdout",
     "output_type": "stream",
     "text": [
      "Train R2: 0.622618797112571\n"
     ]
    },
    {
     "name": "stderr",
     "output_type": "stream",
     "text": [
      "[Stage 33:====================================================>   (16 + 1) / 17]\r"
     ]
    },
    {
     "name": "stdout",
     "output_type": "stream",
     "text": [
      "Test R2: 0.6234497260447931\n"
     ]
    },
    {
     "name": "stderr",
     "output_type": "stream",
     "text": [
      "                                                                                \r"
     ]
    }
   ],
   "source": [
    "evaluator = RegressionEvaluator(predictionCol=\"prediction\", \\\n",
    "                 labelCol=\"tip_amount\", metricName=\"r2\")\n",
    "\n",
    "print(\"Train R2:\", evaluator.evaluate(train_predictions))\n",
    "print(\"Test R2:\", evaluator.evaluate(test_predictions))"
   ]
  },
  {
   "cell_type": "code",
   "execution_count": 7,
   "metadata": {},
   "outputs": [
    {
     "name": "stderr",
     "output_type": "stream",
     "text": [
      "24/08/25 18:20:29 WARN SparkStringUtils: Truncated the string representation of a plan since it was too large. This behavior can be adjusted by setting 'spark.sql.debug.maxToStringFields'.\n",
      "                                                                                \r"
     ]
    }
   ],
   "source": [
    "# Linear Regression\n",
    "from pyspark.ml.regression import LinearRegression\n",
    "from pyspark.ml.feature import StandardScaler\n",
    "\n",
    "# Fit scaler to train dataset\n",
    "scaler = StandardScaler().setInputCol('features') \\\n",
    "        .setOutputCol('scaled_features')\n",
    "scaler_model = scaler.fit(train)\n",
    "\n",
    "# Scale train and test features\n",
    "train = scaler_model.transform(train)\n",
    "test = scaler_model.transform(test)"
   ]
  },
  {
   "cell_type": "code",
   "execution_count": 8,
   "metadata": {},
   "outputs": [
    {
     "name": "stderr",
     "output_type": "stream",
     "text": [
      "24/08/25 18:20:49 WARN Instrumentation: [4a5b86aa] regParam is zero, which might cause numerical instability and overfitting.\n",
      "24/08/25 18:20:54 WARN InstanceBuilder: Failed to load implementation from:dev.ludovic.netlib.blas.JNIBLAS\n",
      "24/08/25 18:21:09 WARN InstanceBuilder: Failed to load implementation from:dev.ludovic.netlib.lapack.JNILAPACK\n",
      "24/08/25 18:21:09 WARN Instrumentation: [4a5b86aa] Cholesky solver failed due to singular covariance matrix. Retrying with Quasi-Newton solver.\n",
      "                                                                                \r"
     ]
    }
   ],
   "source": [
    "lr = LinearRegression(featuresCol='scaled_features', labelCol='tip_amount', elasticNetParam=1)\n",
    "lr_model = lr.fit(train)"
   ]
  },
  {
   "cell_type": "code",
   "execution_count": 9,
   "metadata": {},
   "outputs": [],
   "source": [
    "train_predictions = lr_model.transform(train)\n",
    "test_predictions = lr_model.transform(test)"
   ]
  },
  {
   "cell_type": "code",
   "execution_count": 10,
   "metadata": {},
   "outputs": [
    {
     "name": "stderr",
     "output_type": "stream",
     "text": [
      "                                                                                \r"
     ]
    },
    {
     "name": "stdout",
     "output_type": "stream",
     "text": [
      "Train RMSE: 2.432516121538103\n"
     ]
    },
    {
     "name": "stderr",
     "output_type": "stream",
     "text": [
      "[Stage 44:=================================================>      (15 + 2) / 17]\r"
     ]
    },
    {
     "name": "stdout",
     "output_type": "stream",
     "text": [
      "Test RMSE: 2.431999312186557\n"
     ]
    },
    {
     "name": "stderr",
     "output_type": "stream",
     "text": [
      "                                                                                \r"
     ]
    }
   ],
   "source": [
    "from pyspark.ml.evaluation import RegressionEvaluator\n",
    "\n",
    "evaluator = RegressionEvaluator(predictionCol=\"prediction\", \\\n",
    "                 labelCol=\"tip_amount\", metricName=\"rmse\")\n",
    "\n",
    "print(\"Train RMSE:\", evaluator.evaluate(train_predictions))\n",
    "print(\"Test RMSE:\", evaluator.evaluate(test_predictions))\n"
   ]
  },
  {
   "cell_type": "code",
   "execution_count": 11,
   "metadata": {},
   "outputs": [
    {
     "name": "stderr",
     "output_type": "stream",
     "text": [
      "                                                                                \r"
     ]
    },
    {
     "name": "stdout",
     "output_type": "stream",
     "text": [
      "Train R2: 0.6285708469787202\n"
     ]
    },
    {
     "name": "stderr",
     "output_type": "stream",
     "text": [
      "[Stage 48:==============================================>         (14 + 3) / 17]\r"
     ]
    },
    {
     "name": "stdout",
     "output_type": "stream",
     "text": [
      "Test R2: 0.6298466378397323\n"
     ]
    },
    {
     "name": "stderr",
     "output_type": "stream",
     "text": [
      "                                                                                \r"
     ]
    }
   ],
   "source": [
    "evaluator = RegressionEvaluator(predictionCol=\"prediction\", \\\n",
    "                 labelCol=\"tip_amount\", metricName=\"r2\")\n",
    "\n",
    "print(\"Train R2:\", evaluator.evaluate(train_predictions))\n",
    "print(\"Test R2:\", evaluator.evaluate(test_predictions))"
   ]
  },
  {
   "cell_type": "code",
   "execution_count": 25,
   "metadata": {},
   "outputs": [],
   "source": [
    "list_extract = []\n",
    "for i in df.schema['features'].metadata[\"ml_attr\"][\"attrs\"]:\n",
    "    list_extract = list_extract + df.schema['features'] \\\n",
    "                    .metadata[\"ml_attr\"][\"attrs\"][i]\n",
    "varlist = pd.DataFrame(list_extract)\n",
    "varlist['weight'] = varlist['idx'].apply(lambda x: lr_model.coefficients[x])\n",
    "weights = varlist.sort_values('weight', ascending = False)\n"
   ]
  },
  {
   "cell_type": "code",
   "execution_count": 35,
   "metadata": {},
   "outputs": [
    {
     "data": {
      "text/html": [
       "<div>\n",
       "<style scoped>\n",
       "    .dataframe tbody tr th:only-of-type {\n",
       "        vertical-align: middle;\n",
       "    }\n",
       "\n",
       "    .dataframe tbody tr th {\n",
       "        vertical-align: top;\n",
       "    }\n",
       "\n",
       "    .dataframe thead th {\n",
       "        text-align: right;\n",
       "    }\n",
       "</style>\n",
       "<table border=\"1\" class=\"dataframe\">\n",
       "  <thead>\n",
       "    <tr style=\"text-align: right;\">\n",
       "      <th></th>\n",
       "      <th>idx</th>\n",
       "      <th>name</th>\n",
       "      <th>weight</th>\n",
       "    </tr>\n",
       "  </thead>\n",
       "  <tbody>\n",
       "    <tr>\n",
       "      <th>2</th>\n",
       "      <td>295</td>\n",
       "      <td>fare_amount</td>\n",
       "      <td>1.778094</td>\n",
       "    </tr>\n",
       "    <tr>\n",
       "      <th>1</th>\n",
       "      <td>294</td>\n",
       "      <td>trip_distance</td>\n",
       "      <td>0.689600</td>\n",
       "    </tr>\n",
       "    <tr>\n",
       "      <th>3</th>\n",
       "      <td>296</td>\n",
       "      <td>tolls_amount</td>\n",
       "      <td>0.450185</td>\n",
       "    </tr>\n",
       "    <tr>\n",
       "      <th>5</th>\n",
       "      <td>298</td>\n",
       "      <td>trip_duration</td>\n",
       "      <td>0.408598</td>\n",
       "    </tr>\n",
       "    <tr>\n",
       "      <th>19</th>\n",
       "      <td>4</td>\n",
       "      <td>PULocationID_vec_138</td>\n",
       "      <td>0.277482</td>\n",
       "    </tr>\n",
       "    <tr>\n",
       "      <th>4</th>\n",
       "      <td>297</td>\n",
       "      <td>congestion_surcharge</td>\n",
       "      <td>0.166392</td>\n",
       "    </tr>\n",
       "    <tr>\n",
       "      <th>60</th>\n",
       "      <td>45</td>\n",
       "      <td>PULocationID_vec_70</td>\n",
       "      <td>0.088258</td>\n",
       "    </tr>\n",
       "    <tr>\n",
       "      <th>6</th>\n",
       "      <td>299</td>\n",
       "      <td>pickup_hour</td>\n",
       "      <td>0.048624</td>\n",
       "    </tr>\n",
       "    <tr>\n",
       "      <th>282</th>\n",
       "      <td>267</td>\n",
       "      <td>pickup_hour_vec_16</td>\n",
       "      <td>0.040983</td>\n",
       "    </tr>\n",
       "    <tr>\n",
       "      <th>279</th>\n",
       "      <td>264</td>\n",
       "      <td>pickup_hour_vec_17</td>\n",
       "      <td>0.038525</td>\n",
       "    </tr>\n",
       "    <tr>\n",
       "      <th>278</th>\n",
       "      <td>263</td>\n",
       "      <td>pickup_hour_vec_18</td>\n",
       "      <td>0.037007</td>\n",
       "    </tr>\n",
       "    <tr>\n",
       "      <th>280</th>\n",
       "      <td>265</td>\n",
       "      <td>pickup_hour_vec_19</td>\n",
       "      <td>0.026836</td>\n",
       "    </tr>\n",
       "    <tr>\n",
       "      <th>78</th>\n",
       "      <td>63</td>\n",
       "      <td>PULocationID_vec_145</td>\n",
       "      <td>0.026250</td>\n",
       "    </tr>\n",
       "    <tr>\n",
       "      <th>300</th>\n",
       "      <td>285</td>\n",
       "      <td>pickup_hour_vec_5</td>\n",
       "      <td>0.017603</td>\n",
       "    </tr>\n",
       "    <tr>\n",
       "      <th>116</th>\n",
       "      <td>101</td>\n",
       "      <td>PULocationID_vec_194</td>\n",
       "      <td>0.016677</td>\n",
       "    </tr>\n",
       "    <tr>\n",
       "      <th>113</th>\n",
       "      <td>98</td>\n",
       "      <td>PULocationID_vec_197</td>\n",
       "      <td>0.014615</td>\n",
       "    </tr>\n",
       "    <tr>\n",
       "      <th>95</th>\n",
       "      <td>80</td>\n",
       "      <td>PULocationID_vec_216</td>\n",
       "      <td>0.014161</td>\n",
       "    </tr>\n",
       "    <tr>\n",
       "      <th>62</th>\n",
       "      <td>47</td>\n",
       "      <td>PULocationID_vec_166</td>\n",
       "      <td>0.014085</td>\n",
       "    </tr>\n",
       "    <tr>\n",
       "      <th>91</th>\n",
       "      <td>76</td>\n",
       "      <td>PULocationID_vec_93</td>\n",
       "      <td>0.013757</td>\n",
       "    </tr>\n",
       "    <tr>\n",
       "      <th>73</th>\n",
       "      <td>58</td>\n",
       "      <td>PULocationID_vec_226</td>\n",
       "      <td>0.012663</td>\n",
       "    </tr>\n",
       "  </tbody>\n",
       "</table>\n",
       "</div>"
      ],
      "text/plain": [
       "     idx                  name    weight\n",
       "2    295           fare_amount  1.778094\n",
       "1    294         trip_distance  0.689600\n",
       "3    296          tolls_amount  0.450185\n",
       "5    298         trip_duration  0.408598\n",
       "19     4  PULocationID_vec_138  0.277482\n",
       "4    297  congestion_surcharge  0.166392\n",
       "60    45   PULocationID_vec_70  0.088258\n",
       "6    299           pickup_hour  0.048624\n",
       "282  267    pickup_hour_vec_16  0.040983\n",
       "279  264    pickup_hour_vec_17  0.038525\n",
       "278  263    pickup_hour_vec_18  0.037007\n",
       "280  265    pickup_hour_vec_19  0.026836\n",
       "78    63  PULocationID_vec_145  0.026250\n",
       "300  285     pickup_hour_vec_5  0.017603\n",
       "116  101  PULocationID_vec_194  0.016677\n",
       "113   98  PULocationID_vec_197  0.014615\n",
       "95    80  PULocationID_vec_216  0.014161\n",
       "62    47  PULocationID_vec_166  0.014085\n",
       "91    76   PULocationID_vec_93  0.013757\n",
       "73    58  PULocationID_vec_226  0.012663"
      ]
     },
     "execution_count": 35,
     "metadata": {},
     "output_type": "execute_result"
    }
   ],
   "source": [
    "weights.sort_values('weight', ascending = False).head(20)"
   ]
  },
  {
   "cell_type": "code",
   "execution_count": 46,
   "metadata": {},
   "outputs": [
    {
     "data": {
      "image/png": "[encoded data removed]",
      "text/plain": [
       "<Figure size 1000x800 with 1 Axes>"
      ]
     },
     "metadata": {},
     "output_type": "display_data"
    }
   ],
   "source": [
    "import seaborn as sns\n",
    "def show_values(axs, space=.01):\n",
    "    def _single(ax):\n",
    "        for p in ax.patches:\n",
    "            _x = p.get_x() + p.get_width() + float(space)\n",
    "            _y = p.get_y() + p.get_height() - (p.get_height()*0.5)\n",
    "            value = '{:.2f}'.format(p.get_width())\n",
    "            ax.text(_x, _y, value, ha=\"left\")\n",
    "\n",
    "    if isinstance(axs, np.ndarray):\n",
    "        for idx, ax in np.ndenumerate(axs):\n",
    "            _single(ax)\n",
    "    else:\n",
    "        _single(axs)\n",
    "        \n",
    "def plot_feature_weights(df):\n",
    "    plt.figure(figsize=(10, 8))\n",
    "    p = sns.barplot(x=df['weight'], y=df['name'])\n",
    "    show_values(p, space=0)\n",
    "    \n",
    "    plt.title('Feature Weights')\n",
    "    plt.xlabel('Weight')\n",
    "    plt.ylabel('Feature Name')\n",
    "    plt.savefig('../plots/feature_weights.png')\n",
    "\n",
    "plot_feature_weights(weights.sort_values('weight', ascending = False).head(20))"
   ]
  },
  {
   "cell_type": "code",
   "execution_count": 45,
   "metadata": {},
   "outputs": [
    {
     "data": {
      "text/html": [
       "<div>\n",
       "<style scoped>\n",
       "    .dataframe tbody tr th:only-of-type {\n",
       "        vertical-align: middle;\n",
       "    }\n",
       "\n",
       "    .dataframe tbody tr th {\n",
       "        vertical-align: top;\n",
       "    }\n",
       "\n",
       "    .dataframe thead th {\n",
       "        text-align: right;\n",
       "    }\n",
       "</style>\n",
       "<table border=\"1\" class=\"dataframe\">\n",
       "  <thead>\n",
       "    <tr style=\"text-align: right;\">\n",
       "      <th></th>\n",
       "      <th>idx</th>\n",
       "      <th>name</th>\n",
       "      <th>weight</th>\n",
       "    </tr>\n",
       "  </thead>\n",
       "  <tbody>\n",
       "    <tr>\n",
       "      <th>2</th>\n",
       "      <td>295</td>\n",
       "      <td>fare_amount</td>\n",
       "      <td>1.778094</td>\n",
       "    </tr>\n",
       "    <tr>\n",
       "      <th>1</th>\n",
       "      <td>294</td>\n",
       "      <td>trip_distance</td>\n",
       "      <td>0.689600</td>\n",
       "    </tr>\n",
       "    <tr>\n",
       "      <th>3</th>\n",
       "      <td>296</td>\n",
       "      <td>tolls_amount</td>\n",
       "      <td>0.450185</td>\n",
       "    </tr>\n",
       "    <tr>\n",
       "      <th>5</th>\n",
       "      <td>298</td>\n",
       "      <td>trip_duration</td>\n",
       "      <td>0.408598</td>\n",
       "    </tr>\n",
       "    <tr>\n",
       "      <th>19</th>\n",
       "      <td>4</td>\n",
       "      <td>PULocationID_vec_138</td>\n",
       "      <td>0.277482</td>\n",
       "    </tr>\n",
       "    <tr>\n",
       "      <th>...</th>\n",
       "      <td>...</td>\n",
       "      <td>...</td>\n",
       "      <td>...</td>\n",
       "    </tr>\n",
       "    <tr>\n",
       "      <th>32</th>\n",
       "      <td>17</td>\n",
       "      <td>PULocationID_vec_141</td>\n",
       "      <td>-0.021178</td>\n",
       "    </tr>\n",
       "    <tr>\n",
       "      <th>291</th>\n",
       "      <td>276</td>\n",
       "      <td>pickup_hour_vec_23</td>\n",
       "      <td>-0.023897</td>\n",
       "    </tr>\n",
       "    <tr>\n",
       "      <th>277</th>\n",
       "      <td>262</td>\n",
       "      <td>pickup_day_vec_Sun</td>\n",
       "      <td>-0.043287</td>\n",
       "    </tr>\n",
       "    <tr>\n",
       "      <th>274</th>\n",
       "      <td>259</td>\n",
       "      <td>pickup_day_vec_Sat</td>\n",
       "      <td>-0.052897</td>\n",
       "    </tr>\n",
       "    <tr>\n",
       "      <th>15</th>\n",
       "      <td>0</td>\n",
       "      <td>PULocationID_vec_132</td>\n",
       "      <td>-0.061585</td>\n",
       "    </tr>\n",
       "  </tbody>\n",
       "</table>\n",
       "<p>308 rows × 3 columns</p>\n",
       "</div>"
      ],
      "text/plain": [
       "     idx                  name    weight\n",
       "2    295           fare_amount  1.778094\n",
       "1    294         trip_distance  0.689600\n",
       "3    296          tolls_amount  0.450185\n",
       "5    298         trip_duration  0.408598\n",
       "19     4  PULocationID_vec_138  0.277482\n",
       "..   ...                   ...       ...\n",
       "32    17  PULocationID_vec_141 -0.021178\n",
       "291  276    pickup_hour_vec_23 -0.023897\n",
       "277  262    pickup_day_vec_Sun -0.043287\n",
       "274  259    pickup_day_vec_Sat -0.052897\n",
       "15     0  PULocationID_vec_132 -0.061585\n",
       "\n",
       "[308 rows x 3 columns]"
      ]
     },
     "execution_count": 45,
     "metadata": {},
     "output_type": "execute_result"
    }
   ],
   "source": [
    "weights"
   ]
  },
  {
   "cell_type": "code",
   "execution_count": 44,
   "metadata": {},
   "outputs": [
    {
     "data": {
      "text/html": [
       "<div>\n",
       "<style scoped>\n",
       "    .dataframe tbody tr th:only-of-type {\n",
       "        vertical-align: middle;\n",
       "    }\n",
       "\n",
       "    .dataframe tbody tr th {\n",
       "        vertical-align: top;\n",
       "    }\n",
       "\n",
       "    .dataframe thead th {\n",
       "        text-align: right;\n",
       "    }\n",
       "</style>\n",
       "<table border=\"1\" class=\"dataframe\">\n",
       "  <thead>\n",
       "    <tr style=\"text-align: right;\">\n",
       "      <th></th>\n",
       "      <th>LocationID</th>\n",
       "      <th>Borough</th>\n",
       "      <th>Zone</th>\n",
       "      <th>service_zone</th>\n",
       "    </tr>\n",
       "  </thead>\n",
       "  <tbody>\n",
       "    <tr>\n",
       "      <th>15</th>\n",
       "      <td>16</td>\n",
       "      <td>Queens</td>\n",
       "      <td>Bayside</td>\n",
       "      <td>Boro Zone</td>\n",
       "    </tr>\n",
       "    <tr>\n",
       "      <th>16</th>\n",
       "      <td>17</td>\n",
       "      <td>Brooklyn</td>\n",
       "      <td>Bedford</td>\n",
       "      <td>Boro Zone</td>\n",
       "    </tr>\n",
       "    <tr>\n",
       "      <th>17</th>\n",
       "      <td>18</td>\n",
       "      <td>Bronx</td>\n",
       "      <td>Bedford Park</td>\n",
       "      <td>Boro Zone</td>\n",
       "    </tr>\n",
       "    <tr>\n",
       "      <th>69</th>\n",
       "      <td>70</td>\n",
       "      <td>Queens</td>\n",
       "      <td>East Elmhurst</td>\n",
       "      <td>Boro Zone</td>\n",
       "    </tr>\n",
       "    <tr>\n",
       "      <th>137</th>\n",
       "      <td>138</td>\n",
       "      <td>Queens</td>\n",
       "      <td>LaGuardia Airport</td>\n",
       "      <td>Airports</td>\n",
       "    </tr>\n",
       "  </tbody>\n",
       "</table>\n",
       "</div>"
      ],
      "text/plain": [
       "     LocationID   Borough               Zone service_zone\n",
       "15           16    Queens            Bayside    Boro Zone\n",
       "16           17  Brooklyn            Bedford    Boro Zone\n",
       "17           18     Bronx       Bedford Park    Boro Zone\n",
       "69           70    Queens      East Elmhurst    Boro Zone\n",
       "137         138    Queens  LaGuardia Airport     Airports"
      ]
     },
     "execution_count": 44,
     "metadata": {},
     "output_type": "execute_result"
    }
   ],
   "source": [
    "zone_lookup = pd.read_csv(\"../data/raw/TaxiZones/taxi+_zone_lookup.csv\")\n",
    "\n",
    "high_value_zones = [138, 70, 16,17,18]\n",
    "\n",
    "zone_lookup[zone_lookup['LocationID'].isin(high_value_zones)]"
   ]
  }
 ],
 "metadata": {
  "kernelspec": {
   "display_name": "Python 3",
   "language": "python",
   "name": "python3"
  },
  "language_info": {
   "codemirror_mode": {
    "name": "ipython",
    "version": 3
   },
   "file_extension": ".py",
   "mimetype": "text/x-python",
   "name": "python",
   "nbconvert_exporter": "python",
   "pygments_lexer": "ipython3",
   "version": "3.10.12"
  }
 },
 "nbformat": 4,
 "nbformat_minor": 2
}
